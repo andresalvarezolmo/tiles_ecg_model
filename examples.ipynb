{
 "cells": [
  {
   "cell_type": "code",
   "execution_count": 2,
   "metadata": {},
   "outputs": [],
   "source": [
    "from src.utils import yaml_config_hook\n",
    "from src.loaders import *\n",
    "from src.models import ResNet1D\n",
    "from src.trainers import *"
   ]
  },
  {
   "cell_type": "code",
   "execution_count": 3,
   "metadata": {},
   "outputs": [
    {
     "name": "stdout",
     "output_type": "stream",
     "text": [
      "Loading from cache...\n",
      "Loaded 144240 samples in total.\n"
     ]
    }
   ],
   "source": [
    "import numpy as np\n",
    "\n",
    "root = \"/home/kavra/Datasets/physio/epic_challenge\"\n",
    "dataset =  MULTI_EPIC(\n",
    "    root, sr=100, scenario=1, split=\"test\", category=\"arousal\", fold=0\n",
    ")\n",
    "\n",
    "preds = np.load(\"EPIC_multi_1_0_arousal_init.npy\")\n",
    "preds = list(np.convolve(preds, np.ones(5), \"valid\") / 5) + list(preds[-4:])"
   ]
  },
  {
   "cell_type": "code",
   "execution_count": 4,
   "metadata": {},
   "outputs": [
    {
     "name": "stderr",
     "output_type": "stream",
     "text": [
      "100%|██████████| 482/482 [00:00<00:00, 499.34it/s]\n"
     ]
    }
   ],
   "source": [
    "dataset.predict(\"arousal\", preds)"
   ]
  },
  {
   "cell_type": "code",
   "execution_count": 22,
   "metadata": {},
   "outputs": [],
   "source": [
    "import numpy as np, os\n",
    "import matplotlib.pyplot as plt\n",
    "\n",
    "plt.rcParams.update({'font.size': 12})\n",
    "plt.rcParams['axes.spines.right'] = False\n",
    "plt.rcParams['axes.spines.top'] = False\n",
    "\n",
    "def plot_results(files1, files2, metric='Aggregated F1-macro'):\n",
    "    # Load the data from the input files\n",
    "    data1, stds1 = [], []\n",
    "    for file in files1:\n",
    "        if not os.path.exists(\"results/\" + file + \".txt\"):\n",
    "            raise FileNotFoundError(\"File not found: \" + file + \".txt\")\n",
    "        with open(\"results/\" + file + \".txt\", \"r\") as f:\n",
    "            for line in f:\n",
    "                if line.startswith(metric):\n",
    "                    data1.append(line.split()[2])\n",
    "                    stds1.append(line.split()[3][1:-1])\n",
    "                    break\n",
    "\n",
    "    data2, stds2 = [], []\n",
    "    for file in files2:\n",
    "        if not os.path.exists(\"results/\" + file + \".txt\"):\n",
    "            raise FileNotFoundError(\"File not found: \" + file + \".txt\")\n",
    "        with open(\"results/\" + file + \".txt\", \"r\") as f:\n",
    "            for line in f:\n",
    "                if line.startswith(metric):\n",
    "                    data2.append(line.split()[2])\n",
    "                    stds2.append(line.split()[3][1:-1])\n",
    "                    break\n",
    "    \n",
    "    # Convert to numpy arrays\n",
    "    data1 = np.array(data1, dtype=float)\n",
    "    stds1 = np.array(stds1, dtype=float)\n",
    "    data2 = np.array(data2, dtype=float)\n",
    "    stds2 = np.array(stds2, dtype=float)\n",
    "    \n",
    "    # Create the plot\n",
    "    dataset = file_list_1[0].split(\"_\")[0]\n",
    "    names = [int(file[-3:]) for file in files1[:-1]] + [100]\n",
    "\n",
    "    fig, ax = plt.subplots()\n",
    "\n",
    "    ax.fill_between(range(len(files1)), data1 - stds1, data1 + stds1, alpha=0.2)\n",
    "    ax.plot(range(len(files1)), data1, marker=\"o\", label=\"TILES-frozen\")\n",
    "\n",
    "    ax.fill_between(range(len(files2)), data2 - stds2, data2 + stds2, alpha=0.2)\n",
    "    ax.plot(range(len(files2)), data2, marker=\"o\", label=\"from-scratch\")\n",
    "    \n",
    "    ax.set_xticks(range(5))\n",
    "    ax.set_xticklabels(names)\n",
    "    ax.set_xlabel('Percentage of training data (%)')\n",
    "    ax.set_ylabel(metric)\n",
    "    ax.legend(loc='lower right')\n",
    "    ax.set_title(f\"{dataset} subject-agnostic\")\n",
    "    plt.show()"
   ]
  },
  {
   "cell_type": "code",
   "execution_count": null,
   "metadata": {},
   "outputs": [],
   "source": [
    "dataset = \"WESAD\"\n",
    "file_list_1 = [f\"{dataset}_frozen_005\", f\"{dataset}_frozen_010\", f\"{dataset}_frozen_020\", f\"{dataset}_frozen_050\", f\"{dataset}_frozen\"]\n",
    "file_list_2 = [f\"{dataset}_scratch_005\", f\"{dataset}_scratch_010\", f\"{dataset}_scratch_020\", f\"{dataset}_scratch_050\", f\"{dataset}_scratch\"]\n",
    "\n",
    "plot_results(file_list_1, file_list_2, metric='Chunk-wise F1-macro')"
   ]
  }
 ],
 "metadata": {
  "kernelspec": {
   "display_name": "base",
   "language": "python",
   "name": "python3"
  },
  "language_info": {
   "codemirror_mode": {
    "name": "ipython",
    "version": 3
   },
   "file_extension": ".py",
   "mimetype": "text/x-python",
   "name": "python",
   "nbconvert_exporter": "python",
   "pygments_lexer": "ipython3",
   "version": "3.9.7"
  },
  "orig_nbformat": 4
 },
 "nbformat": 4,
 "nbformat_minor": 2
}
